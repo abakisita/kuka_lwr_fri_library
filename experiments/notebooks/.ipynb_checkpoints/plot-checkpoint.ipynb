{
 "cells": [
  {
   "cell_type": "code",
   "execution_count": 1,
   "metadata": {},
   "outputs": [],
   "source": [
    "%matplotlib qt\n",
    "import numpy as np\n",
    "import yaml\n",
    "import matplotlib.pyplot as plt \n",
    "from mpl_toolkits.mplot3d import Axes3D\n",
    "\n",
    "import sys\n",
    "from PyQt5.QtGui import *\n",
    "from PyQt5.QtWidgets import *"
   ]
  },
  {
   "cell_type": "code",
   "execution_count": null,
   "metadata": {},
   "outputs": [],
   "source": [
    "\n"
   ]
  },
  {
   "cell_type": "code",
   "execution_count": 65,
   "metadata": {},
   "outputs": [],
   "source": [
    "fname = QFileDialog.getOpenFileName(directory='/home/abhishek/master_thesis/code/src/FastResearchInterfaceLibrary/scripts/python')\n",
    "with open(fname[0]) as f:\n",
    "    loadeddict = yaml.load(f)\n",
    "\n",
    "avg_reward = loadeddict.get('avg_reward')\n",
    "reward = loadeddict.get('reward')\n",
    "avg_reward = np.array(avg_reward)\n",
    "reward = np.array(reward)\n"
   ]
  },
  {
   "cell_type": "code",
   "execution_count": 66,
   "metadata": {},
   "outputs": [],
   "source": [
    "plt.plot(ft_tcp_[:,0] - 1.5652626e+09, ft_tcp_[:, 1])\n",
    "plt.plot(ft_tcp_[:,0] - 1.5652626e+09, ft_tcp_[:, 2])\n",
    "plt.plot(ft_tcp_[:,0] - 1.5652626e+09, ft_tcp_[:, 3])\n",
    "plt.xlabel(\"Second\")\n",
    "plt.ylabel(\"Newton\")\n",
    "plt.title(\"Force vs Time\")\n",
    "plt.grid(all)\n",
    "plt.gca().legend(('force_x', 'force_y', 'force_z'))\n",
    "\n",
    "plt.show()"
   ]
  },
  {
   "cell_type": "code",
   "execution_count": 61,
   "metadata": {},
   "outputs": [],
   "source": [
    "plt.plot(ft_tcp_[:,0] - ft_tcp_[0,0], ft_tcp_[:, 4])\n",
    "plt.plot(ft_tcp_[:,0] - ft_tcp_[0,0], ft_tcp_[:, 5])\n",
    "plt.plot(ft_tcp_[:,0] - ft_tcp_[0,0], ft_tcp_[:, 6])\n",
    "plt.gca().legend(('torque_x', 'torque_y', 'torque_z'))\n",
    "plt.xlabel(\"Second\")\n",
    "plt.ylabel(\"Newton.Meter\")\n",
    "plt.title(\"Torque vs Time\")\n",
    "plt.grid(all)\n",
    "\n",
    "plt.show()"
   ]
  },
  {
   "cell_type": "code",
   "execution_count": 62,
   "metadata": {},
   "outputs": [],
   "source": [
    "plt.plot(ft_tcp_[:,0] - ft_tcp_[0,0], ft_tcp_[:, 1])\n",
    "plt.plot(ft_tcp_[:,0] - ft_tcp_[0,0], ft_tcp_[:, 2])\n",
    "plt.plot(ft_tcp_[:,0] - ft_tcp_[0,0], ft_tcp_[:, 3])\n",
    "plt.xlabel(\"Second\")\n",
    "plt.ylabel(\"Newton\")\n",
    "plt.title(\"Linear velocity vs Time\")\n",
    "plt.grid(all)\n",
    "plt.gca().legend(('force_x', 'force_y', 'force_z'))\n",
    "\n",
    "plt.show()"
   ]
  },
  {
   "cell_type": "code",
   "execution_count": 63,
   "metadata": {},
   "outputs": [],
   "source": [
    "plt.plot(twist_[:,0] - twist_[0,0], twist_[:, 1])\n",
    "plt.plot(twist_[:,0] - twist_[0,0], twist_[:, 2])\n",
    "plt.plot(twist_[:,0] - twist_[0,0], twist_[:, 3])\n",
    "plt.xlabel(\"second\")\n",
    "plt.ylabel(\"radian/second\")\n",
    "plt.title(\"Angular velocity vs Time\")\n",
    "plt.grid(all)\n",
    "plt.gca().legend(('x', 'y', 'z'))\n",
    "\n",
    "plt.show()"
   ]
  },
  {
   "cell_type": "code",
   "execution_count": 50,
   "metadata": {},
   "outputs": [],
   "source": [
    "plt.plot(twist_[:,0] - twist_[0,0], twist_[:, 4])\n",
    "plt.plot(twist_[:,0] - twist_[0,0], twist_[:, 5])\n",
    "plt.plot(twist_[:,0] - twist_[0,0], twist_[:, 6])\n",
    "plt.xlabel(\"second\")\n",
    "plt.ylabel(\"rad/second\")\n",
    "plt.grid(all)\n",
    "plt.gca().legend(('x', 'y', 'z'))\n",
    "\n",
    "plt.show()"
   ]
  },
  {
   "cell_type": "code",
   "execution_count": 64,
   "metadata": {},
   "outputs": [],
   "source": [
    "\n",
    "traj = []\n",
    "for i in range (len(door_traj)):\n",
    "    traj.append([door_traj[i][0][0], door_traj[i][1][0], door_traj[i][1][1], door_traj[i][1][2], door_traj[i][2][0],\n",
    "                 door_traj[i][2][1], door_traj[i][2][2], door_traj[i][2][3]])\n",
    "traj = np.array(traj)\n",
    "fig = plt.figure()\n",
    "ax = fig.add_subplot(111, projection='3d')\n",
    "ax.axis(\"equal\")\n",
    "ax.plot(traj[:,1], traj[:,2], traj[:,3])\n",
    "ax.set_xlabel(\"X-axis\")\n",
    "ax.set_ylabel(\"Y-axis\")\n",
    "ax.set_zlabel(\"Z-axis\")\n",
    "plt.show()"
   ]
  },
  {
   "cell_type": "code",
   "execution_count": 40,
   "metadata": {},
   "outputs": [
    {
     "data": {
      "text/plain": [
       "1.4047223092850967"
      ]
     },
     "execution_count": 40,
     "metadata": {},
     "output_type": "execute_result"
    }
   ],
   "source": []
  },
  {
   "cell_type": "code",
   "execution_count": null,
   "metadata": {},
   "outputs": [],
   "source": []
  }
 ],
 "metadata": {
  "kernelspec": {
   "display_name": "Python 2",
   "language": "python",
   "name": "python2"
  },
  "language_info": {
   "codemirror_mode": {
    "name": "ipython",
    "version": 2
   },
   "file_extension": ".py",
   "mimetype": "text/x-python",
   "name": "python",
   "nbconvert_exporter": "python",
   "pygments_lexer": "ipython2",
   "version": "2.7.12"
  }
 },
 "nbformat": 4,
 "nbformat_minor": 2
}
